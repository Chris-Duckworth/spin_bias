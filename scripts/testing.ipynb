{
 "cells": [
  {
   "cell_type": "code",
   "execution_count": 1,
   "metadata": {},
   "outputs": [],
   "source": [
    "import numpy as np\n",
    "import pandas as pd\n",
    "import matplotlib.pyplot as plt\n",
    "\n",
    "import catalog\n",
    "import catalog_init\n",
    "import catalog_process\n",
    "import catalog_plot\n",
    "import copy\n",
    "\n",
    "import imp \n",
    "imp.reload(catalog)\n",
    "imp.reload(catalog_plot)\n",
    "imp.reload(catalog_process)\n",
    "\n",
    "# plotting defaults.\n",
    "from matplotlib.pyplot import rcParams\n",
    "catalog_plot.default(rcParams)"
   ]
  },
  {
   "cell_type": "code",
   "execution_count": null,
   "metadata": {},
   "outputs": [],
   "source": []
  }
 ],
 "metadata": {
  "kernelspec": {
   "display_name": "Python 3",
   "language": "python",
   "name": "python3"
  },
  "language_info": {
   "codemirror_mode": {
    "name": "ipython",
    "version": 3
   },
   "file_extension": ".py",
   "mimetype": "text/x-python",
   "name": "python",
   "nbconvert_exporter": "python",
   "pygments_lexer": "ipython3",
   "version": "3.7.4"
  }
 },
 "nbformat": 4,
 "nbformat_minor": 4
}

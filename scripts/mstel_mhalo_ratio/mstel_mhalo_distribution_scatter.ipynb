{
 "cells": [
  {
   "cell_type": "markdown",
   "metadata": {},
   "source": [
    "### mstel_mhalo_distribution_scatter \n",
    "- Again looking at the Mstel-Mhalo plane coloured on various properties."
   ]
  },
  {
   "cell_type": "code",
   "execution_count": 2,
   "metadata": {},
   "outputs": [],
   "source": [
    "import numpy as np\n",
    "import pandas as pd\n",
    "import matplotlib.pyplot as plt\n",
    "from mpl_toolkits.axes_grid1 import ImageGrid\n",
    "\n",
    "import catalog\n",
    "import catalog_init \n",
    "import catalog_process\n",
    "import catalog_plot\n",
    "import copy\n",
    "\n",
    "import imp \n",
    "imp.reload(catalog)\n",
    "imp.reload(catalog_plot)\n",
    "imp.reload(catalog_process)\n",
    "imp.reload(catalog_init)\n",
    "\n",
    "# plotting defaults.\n",
    "from matplotlib.pyplot import rcParams\n",
    "catalog_plot.default(rcParams)\n",
    "\n",
    "plt.style.use(\"dark_background\")"
   ]
  },
  {
   "cell_type": "code",
   "execution_count": 3,
   "metadata": {},
   "outputs": [
    {
     "name": "stdout",
     "output_type": "stream",
     "text": [
      "Warning: There are no zero mass groups in Lim et al. 2017 so param is irrelevant.\n"
     ]
    },
    {
     "name": "stderr",
     "output_type": "stream",
     "text": [
      "/Users/chrisduckworth/astronomy/projects/spin_bias/scripts/catalog_init.py:98: SettingWithCopyWarning: \n",
      "A value is trying to be set on a copy of a slice from a DataFrame.\n",
      "Try using .loc[row_indexer,col_indexer] = value instead\n",
      "\n",
      "See the caveats in the documentation: https://pandas.pydata.org/pandas-docs/stable/user_guide/indexing.html#returning-a-view-versus-a-copy\n",
      "  tab['stellar_to_halo_ratio'] = np.log10(tab['nsa_elpetro_mass']) -  tab['log_halo_mass']\n"
     ]
    }
   ],
   "source": [
    "basepath = '/Users/chrisduckworth/astronomy/projects/spin_bias/catalogues/'\n",
    "outpath = '/Users/chrisduckworth/astronomy/projects/spin_bias/plots/mstel_mhalo_distributions/mpl9/'\n",
    "\n",
    "# initiating catalog class objects.\n",
    "total = catalog.Catalog(basepath, version='mpl9', match_to_lim=True)\n",
    "# matching to cw definitions and selecting centrals only.\n",
    "total.match_to_cw(basepath, version='mpl9', sigma=5)\n",
    "total.remove_satellites(group_cat='lim') \n",
    "\n",
    "# creating copies of these objects and cutting on morphology.\n",
    "ltgs = copy.deepcopy(total) \n",
    "ltgs.select_morphology('ltg')\n",
    "\n",
    "etgs = copy.deepcopy(total) \n",
    "etgs.select_morphology('etg')\n",
    "\n",
    "unclassified = copy.deepcopy(total)\n",
    "unclassified.select_morphology('unclassified')"
   ]
  },
  {
   "cell_type": "code",
   "execution_count": null,
   "metadata": {},
   "outputs": [],
   "source": [
    "# Set up figure and image grid\n",
    "fig= plt.figure(figsize=(40, 5))\n",
    "\n",
    "ax = ImageGrid(fig, 111,          # as in plt.subplot(111)\n",
    "                 nrows_ncols=(1,4),\n",
    "                 axes_pad=0.1,\n",
    "                 share_all=True,\n",
    "                 cbar_location=\"right\",\n",
    "                 cbar_mode=\"single\",\n",
    "                 cbar_size=\"7%\",\n",
    "                 cbar_pad=0.15,\n",
    "                 )\n",
    "\n",
    "extent = [11, 15, 8.5, 11.8]\n",
    "vrange = [-3.5, -1.5]\n",
    "grid = 40 \n",
    "mincnt = 0\n",
    "\n",
    "hb = total.plot_hexbin('log_halo_mass', 'nsa_elpetro_mass_logscale', ax[0], C=total.df.stellar_to_halo_ratio.values, mincnt=mincnt, gridsize=grid, extent=extent, cmap='viridis', vmin=vrange[0], vmax=vrange[1])\n",
    "hb = etgs.plot_hexbin('log_halo_mass', 'nsa_elpetro_mass_logscale', ax[1], C=etgs.df.stellar_to_halo_ratio.values, mincnt=mincnt, gridsize=grid, extent=extent, cmap='viridis', vmin=vrange[0], vmax=vrange[1])\n",
    "ltgs.plot_hexbin('log_halo_mass', 'nsa_elpetro_mass_logscale', ax[2], C=ltgs.df.stellar_to_halo_ratio.values, mincnt=mincnt, gridsize=grid, extent=extent, cmap='viridis', vmin=vrange[0], vmax=vrange[1])\n",
    "unclassified.plot_hexbin('log_halo_mass', 'nsa_elpetro_mass_logscale', ax[3], C=unclassified.df.stellar_to_halo_ratio.values, mincnt=mincnt, gridsize=grid, extent=extent, cmap='viridis', vmin=vrange[0], vmax=vrange[1])\n",
    "\n",
    "# Colorbar\n",
    "cb = ax[0].cax.colorbar(hb)\n",
    "cb.set_label_text('$\\mathrm{M_{stel} / M_{halo}}$', fontsize=14)\n",
    "ax[0].cax.toggle_label(True)\n",
    "\n",
    "titles = ['All galaxies', 'ETGs', 'LTGs', 'Unclassified']\n",
    "\n",
    "for ind, axis in enumerate(ax):\n",
    "    axis.set_xlabel('$\\mathrm{log_{10}(M_{halo}) \\; [M_{\\odot}]}$', fontsize=14)\n",
    "    axis.set_title(titles[ind], fontsize=14)\n",
    "    \n",
    "ax[0].set_ylabel('$\\mathrm{log_{10}(M_{stel}) \\; [M_{\\odot}]}$', fontsize=14)\n",
    "ax[0].set_ylim([8.5, 11.5])\n",
    "ax[0].set_xlim([11, 14.5])\n",
    "\n",
    "plt.savefig(outpath+'mstel_mhalo_c-ratio-double-bin.pdf', format='pdf', bbox_inches='tight')"
   ]
  }
 ],
 "metadata": {
  "kernelspec": {
   "display_name": "Python 3",
   "language": "python",
   "name": "python3"
  },
  "language_info": {
   "codemirror_mode": {
    "name": "ipython",
    "version": 3
   },
   "file_extension": ".py",
   "mimetype": "text/x-python",
   "name": "python",
   "nbconvert_exporter": "python",
   "pygments_lexer": "ipython3",
   "version": "3.7.4"
  }
 },
 "nbformat": 4,
 "nbformat_minor": 4
}

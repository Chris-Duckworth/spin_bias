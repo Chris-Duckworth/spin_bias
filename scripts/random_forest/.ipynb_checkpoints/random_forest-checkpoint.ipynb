{
 "cells": [
  {
   "cell_type": "markdown",
   "metadata": {},
   "source": [
    "# random_forest\n",
    "- Implementation of random forest to investigate relative importance of morphology, stellar mass, inclination, along with local and large-scale environment on galaxy spin.\n",
    "- Justification for choice of morphology/galaxy type (in this case actually $n_{sersic}$) parameter can be found in ./evalutate_morphology_params.ipynb\n",
    "- Univariate correlations between key parameters can be found in ./univariate_correlations.ipynb with stellar mass and $n_{sersic}$ being the top two."
   ]
  },
  {
   "cell_type": "code",
   "execution_count": 1,
   "metadata": {},
   "outputs": [],
   "source": [
    "# general\n",
    "import numpy as np\n",
    "import pandas as pd\n",
    "from scipy import stats\n",
    "\n",
    "# plotting\n",
    "import matplotlib.pyplot as plt\n",
    "import seaborn as sns\n",
    "\n",
    "# catalog class and associated libs.\n",
    "import catalog\n",
    "import encode_morphology\n",
    "import plot_correlations\n",
    "\n",
    "# sklearn\n",
    "from sklearn.model_selection import train_test_split\n",
    "from sklearn.model_selection import RandomizedSearchCV\n",
    "from sklearn.ensemble import RandomForestRegressor\n",
    "from sklearn.tree import export_graphviz\n",
    "import pydot"
   ]
  },
  {
   "cell_type": "markdown",
   "metadata": {},
   "source": [
    "### Loading in galaxy information using catalog class object"
   ]
  },
  {
   "cell_type": "code",
   "execution_count": 2,
   "metadata": {},
   "outputs": [],
   "source": [
    "basepath = '../../catalogues/'\n",
    "outpath = '../../plots/random_forest/'\n",
    "\n",
    "# initiating catalog class objects.\n",
    "galaxies = catalog.Catalog(basepath, version='mpl9', match_to_lim=True)\n",
    "# matching to cw d|efinitions and selecting centrals only.\n",
    "galaxies.match_to_cw(basepath, version='mpl9', sigma=3)"
   ]
  },
  {
   "cell_type": "code",
   "execution_count": 3,
   "metadata": {},
   "outputs": [
    {
     "data": {
      "text/html": [
       "<div>\n",
       "<style scoped>\n",
       "    .dataframe tbody tr th:only-of-type {\n",
       "        vertical-align: middle;\n",
       "    }\n",
       "\n",
       "    .dataframe tbody tr th {\n",
       "        vertical-align: top;\n",
       "    }\n",
       "\n",
       "    .dataframe thead th {\n",
       "        text-align: right;\n",
       "    }\n",
       "</style>\n",
       "<table border=\"1\" class=\"dataframe\">\n",
       "  <thead>\n",
       "    <tr style=\"text-align: right;\">\n",
       "      <th></th>\n",
       "      <th>CATALOG_RA</th>\n",
       "      <th>CATALOG_DEC</th>\n",
       "      <th>NSA_Z</th>\n",
       "      <th>MANGAID_x</th>\n",
       "      <th>ID</th>\n",
       "      <th>GalID</th>\n",
       "      <th>px</th>\n",
       "      <th>py</th>\n",
       "      <th>pz</th>\n",
       "      <th>log_dskel</th>\n",
       "      <th>...</th>\n",
       "      <th>e_vel_sigma_Re</th>\n",
       "      <th>Lambda_Re</th>\n",
       "      <th>e_Lambda_Re</th>\n",
       "      <th>plate_y</th>\n",
       "      <th>ifudsgn_y</th>\n",
       "      <th>nsa_elpetro_mass_logscale</th>\n",
       "      <th>log_dskel_norm</th>\n",
       "      <th>log_dwall_norm</th>\n",
       "      <th>log_dnode_norm</th>\n",
       "      <th>group_flag</th>\n",
       "    </tr>\n",
       "  </thead>\n",
       "  <tbody>\n",
       "    <tr>\n",
       "      <th>0</th>\n",
       "      <td>159.827061</td>\n",
       "      <td>0.839858</td>\n",
       "      <td>0.065915</td>\n",
       "      <td>1-3019</td>\n",
       "      <td>147</td>\n",
       "      <td>15113</td>\n",
       "      <td>-275.382448</td>\n",
       "      <td>101.173331</td>\n",
       "      <td>4.300716</td>\n",
       "      <td>0.043255</td>\n",
       "      <td>...</td>\n",
       "      <td>0.097637</td>\n",
       "      <td>0.097408</td>\n",
       "      <td>0.154860</td>\n",
       "      <td>10837</td>\n",
       "      <td>6102</td>\n",
       "      <td>10.922176</td>\n",
       "      <td>-0.728546</td>\n",
       "      <td>-0.756051</td>\n",
       "      <td>0.037368</td>\n",
       "      <td>0</td>\n",
       "    </tr>\n",
       "    <tr>\n",
       "      <th>1</th>\n",
       "      <td>160.143696</td>\n",
       "      <td>0.817429</td>\n",
       "      <td>0.065825</td>\n",
       "      <td>1-3050</td>\n",
       "      <td>148</td>\n",
       "      <td>12121</td>\n",
       "      <td>-273.812275</td>\n",
       "      <td>98.882583</td>\n",
       "      <td>4.153580</td>\n",
       "      <td>-0.878621</td>\n",
       "      <td>...</td>\n",
       "      <td>0.088168</td>\n",
       "      <td>0.642676</td>\n",
       "      <td>0.225280</td>\n",
       "      <td>10837</td>\n",
       "      <td>3701</td>\n",
       "      <td>10.888331</td>\n",
       "      <td>-1.649340</td>\n",
       "      <td>-0.711134</td>\n",
       "      <td>1.572121</td>\n",
       "      <td>1</td>\n",
       "    </tr>\n",
       "    <tr>\n",
       "      <th>2</th>\n",
       "      <td>160.760696</td>\n",
       "      <td>0.905083</td>\n",
       "      <td>0.125503</td>\n",
       "      <td>1-3087</td>\n",
       "      <td>150</td>\n",
       "      <td>58783</td>\n",
       "      <td>-512.637809</td>\n",
       "      <td>178.913657</td>\n",
       "      <td>8.577672</td>\n",
       "      <td>-0.013595</td>\n",
       "      <td>...</td>\n",
       "      <td>0.124708</td>\n",
       "      <td>0.085910</td>\n",
       "      <td>0.246711</td>\n",
       "      <td>10837</td>\n",
       "      <td>3703</td>\n",
       "      <td>11.068974</td>\n",
       "      <td>-0.986655</td>\n",
       "      <td>-1.382987</td>\n",
       "      <td>-1.070399</td>\n",
       "      <td>0</td>\n",
       "    </tr>\n",
       "    <tr>\n",
       "      <th>3</th>\n",
       "      <td>160.966486</td>\n",
       "      <td>1.061669</td>\n",
       "      <td>0.115905</td>\n",
       "      <td>1-3343</td>\n",
       "      <td>165</td>\n",
       "      <td>73456</td>\n",
       "      <td>-481.467757</td>\n",
       "      <td>166.097729</td>\n",
       "      <td>9.438687</td>\n",
       "      <td>-0.460942</td>\n",
       "      <td>...</td>\n",
       "      <td>0.084244</td>\n",
       "      <td>0.275265</td>\n",
       "      <td>0.129037</td>\n",
       "      <td>10837</td>\n",
       "      <td>3704</td>\n",
       "      <td>11.179978</td>\n",
       "      <td>-1.386935</td>\n",
       "      <td>-1.763926</td>\n",
       "      <td>-0.896978</td>\n",
       "      <td>0</td>\n",
       "    </tr>\n",
       "    <tr>\n",
       "      <th>4</th>\n",
       "      <td>203.752677</td>\n",
       "      <td>-0.447620</td>\n",
       "      <td>0.021990</td>\n",
       "      <td>1-10808</td>\n",
       "      <td>570</td>\n",
       "      <td>144684</td>\n",
       "      <td>-92.891861</td>\n",
       "      <td>-40.878621</td>\n",
       "      <td>-0.792863</td>\n",
       "      <td>-0.194282</td>\n",
       "      <td>...</td>\n",
       "      <td>0.268645</td>\n",
       "      <td>0.565687</td>\n",
       "      <td>0.931179</td>\n",
       "      <td>11024</td>\n",
       "      <td>3703</td>\n",
       "      <td>8.687317</td>\n",
       "      <td>-0.766828</td>\n",
       "      <td>-0.645687</td>\n",
       "      <td>-0.128733</td>\n",
       "      <td>0</td>\n",
       "    </tr>\n",
       "  </tbody>\n",
       "</table>\n",
       "<p>5 rows × 422 columns</p>\n",
       "</div>"
      ],
      "text/plain": [
       "   CATALOG_RA  CATALOG_DEC     NSA_Z MANGAID_x   ID   GalID          px  \\\n",
       "0  159.827061     0.839858  0.065915    1-3019  147   15113 -275.382448   \n",
       "1  160.143696     0.817429  0.065825    1-3050  148   12121 -273.812275   \n",
       "2  160.760696     0.905083  0.125503    1-3087  150   58783 -512.637809   \n",
       "3  160.966486     1.061669  0.115905    1-3343  165   73456 -481.467757   \n",
       "4  203.752677    -0.447620  0.021990   1-10808  570  144684  -92.891861   \n",
       "\n",
       "           py        pz  log_dskel  ...  e_vel_sigma_Re  Lambda_Re  \\\n",
       "0  101.173331  4.300716   0.043255  ...        0.097637   0.097408   \n",
       "1   98.882583  4.153580  -0.878621  ...        0.088168   0.642676   \n",
       "2  178.913657  8.577672  -0.013595  ...        0.124708   0.085910   \n",
       "3  166.097729  9.438687  -0.460942  ...        0.084244   0.275265   \n",
       "4  -40.878621 -0.792863  -0.194282  ...        0.268645   0.565687   \n",
       "\n",
       "   e_Lambda_Re  plate_y  ifudsgn_y  nsa_elpetro_mass_logscale  log_dskel_norm  \\\n",
       "0     0.154860    10837       6102                  10.922176       -0.728546   \n",
       "1     0.225280    10837       3701                  10.888331       -1.649340   \n",
       "2     0.246711    10837       3703                  11.068974       -0.986655   \n",
       "3     0.129037    10837       3704                  11.179978       -1.386935   \n",
       "4     0.931179    11024       3703                   8.687317       -0.766828   \n",
       "\n",
       "   log_dwall_norm  log_dnode_norm  group_flag  \n",
       "0       -0.756051        0.037368           0  \n",
       "1       -0.711134        1.572121           1  \n",
       "2       -1.382987       -1.070399           0  \n",
       "3       -1.763926       -0.896978           0  \n",
       "4       -0.645687       -0.128733           0  \n",
       "\n",
       "[5 rows x 422 columns]"
      ]
     },
     "execution_count": 3,
     "metadata": {},
     "output_type": "execute_result"
    }
   ],
   "source": [
    "# creating group membership binary (0 - central, 1 - satellite) flag.\n",
    "group_flag = np.zeros(galaxies.df.shape[0])\n",
    "\n",
    "group_flag[galaxies.df.galaxyID.values == galaxies.df.cenID.values] = 0\n",
    "group_flag[galaxies.df.galaxyID.values != galaxies.df.cenID.values] = 1\n",
    "\n",
    "# adding flag to df\n",
    "galaxies.df['group_flag'] = group_flag.astype(int)\n",
    "galaxies.df.head(5)"
   ]
  },
  {
   "cell_type": "markdown",
   "metadata": {},
   "source": [
    "### Creating individual features and label dfs."
   ]
  },
  {
   "cell_type": "code",
   "execution_count": 4,
   "metadata": {},
   "outputs": [],
   "source": [
    "labels = galaxies.df.Lambda_Re.values\n",
    "features = galaxies.df[['nsa_elpetro_mass_logscale', \n",
    "                        'nsa_elpetro_ba',\n",
    "                        'nsa_sersic_n',\n",
    "                        'log_halo_mass', \n",
    "                        'group_flag', \n",
    "                        'log_dnode_norm', \n",
    "                        'log_dskel_norm']]\n",
    "\n",
    "# for plotting.\n",
    "feature_labels = np.array(['$M_{stel}$',\n",
    "                           'Inc. (b/a)',\n",
    "                           '$n_{sersic}$',\n",
    "                           '$M_{halo}$',\n",
    "                           'Cen/Sat',\n",
    "                           '$D_{node}$',\n",
    "                           '$D_{skel}$'])"
   ]
  },
  {
   "cell_type": "markdown",
   "metadata": {},
   "source": [
    "### Using sklearn to divide into train and testing samples (to sanity check fit)"
   ]
  },
  {
   "cell_type": "code",
   "execution_count": 5,
   "metadata": {},
   "outputs": [
    {
     "data": {
      "text/plain": [
       "((4893,), (1224,))"
      ]
     },
     "execution_count": 5,
     "metadata": {},
     "output_type": "execute_result"
    }
   ],
   "source": [
    "X_train, X_test, y_train, y_test = train_test_split(np.array(features), labels, test_size = 0.2, \n",
    "                                                    shuffle=True, random_state = 27)\n",
    "y_train.shape, y_test.shape"
   ]
  },
  {
   "cell_type": "code",
   "execution_count": 6,
   "metadata": {},
   "outputs": [
    {
     "data": {
      "text/plain": [
       "(4893, 2)"
      ]
     },
     "execution_count": 6,
     "metadata": {},
     "output_type": "execute_result"
    }
   ],
   "source": [
    "X_train[:, 0:2].shape"
   ]
  },
  {
   "cell_type": "markdown",
   "metadata": {},
   "source": [
    "### Grid search to find heurestic hyperparameters for the problem.\n",
    "- running gridsearch with n_jobs = -2 (because it seems to crash for all other options ?)\n"
   ]
  },
  {
   "cell_type": "code",
   "execution_count": 7,
   "metadata": {},
   "outputs": [
    {
     "data": {
      "text/plain": [
       "{'n_estimators': [500, 750, 1000, 1250],\n",
       " 'max_features': ['auto', 'sqrt'],\n",
       " 'max_depth': [10, 50, 110, None],\n",
       " 'min_samples_split': [2, 5, 10],\n",
       " 'min_samples_leaf': [1, 2, 4]}"
      ]
     },
     "execution_count": 7,
     "metadata": {},
     "output_type": "execute_result"
    }
   ],
   "source": [
    "# Number of trees in random forest\n",
    "n_estimators = [500, 750, 1000, 1250]\n",
    "\n",
    "# Number of features to consider at every split\n",
    "max_features = ['auto', 'sqrt']\n",
    "\n",
    "# Maximum number of levels in tree\n",
    "max_depth = [10, 50, 110]\n",
    "max_depth.append(None)\n",
    "\n",
    "# Minimum number of samples required to split a node\n",
    "min_samples_split = [2, 5, 10]\n",
    "\n",
    "# Minimum number of samples required at each leaf node\n",
    "min_samples_leaf = [1, 2, 4]\n",
    "\n",
    "# Create the random grid\n",
    "random_grid = {'n_estimators': n_estimators,\n",
    "               'max_features': max_features,\n",
    "               'max_depth': max_depth,\n",
    "               'min_samples_split': min_samples_split,\n",
    "               'min_samples_leaf': min_samples_leaf}\n",
    "\n",
    "random_grid"
   ]
  },
  {
   "cell_type": "code",
   "execution_count": 8,
   "metadata": {},
   "outputs": [
    {
     "name": "stdout",
     "output_type": "stream",
     "text": [
      "Fitting 3 folds for each of 100 candidates, totalling 300 fits\n"
     ]
    },
    {
     "name": "stderr",
     "output_type": "stream",
     "text": [
      "[Parallel(n_jobs=-2)]: Using backend LokyBackend with 11 concurrent workers.\n",
      "[Parallel(n_jobs=-2)]: Done  19 tasks      | elapsed:   22.2s\n",
      "/opt/miniconda3/lib/python3.7/site-packages/joblib/externals/loky/process_executor.py:691: UserWarning: A worker stopped while some jobs were given to the executor. This can be caused by a too short worker timeout or by a memory leak.\n",
      "  \"timeout or by a memory leak.\", UserWarning\n",
      "[Parallel(n_jobs=-2)]: Done 140 tasks      | elapsed:  2.4min\n",
      "[Parallel(n_jobs=-2)]: Done 300 out of 300 | elapsed:  4.7min finished\n"
     ]
    },
    {
     "data": {
      "text/plain": [
       "RandomizedSearchCV(cv=3, estimator=RandomForestRegressor(), n_iter=100,\n",
       "                   n_jobs=-2,\n",
       "                   param_distributions={'max_depth': [10, 50, 110, None],\n",
       "                                        'max_features': ['auto', 'sqrt'],\n",
       "                                        'min_samples_leaf': [1, 2, 4],\n",
       "                                        'min_samples_split': [2, 5, 10],\n",
       "                                        'n_estimators': [500, 750, 1000, 1250]},\n",
       "                   verbose=2)"
      ]
     },
     "execution_count": 8,
     "metadata": {},
     "output_type": "execute_result"
    }
   ],
   "source": [
    "# Use the random grid to search for best hyperparameters\n",
    "\n",
    "# First create the base model to tune\n",
    "rf = RandomForestRegressor()\n",
    "\n",
    "# Random search of parameters, using 3 fold cross validation, \n",
    "# search across 100 different combinations, and use all available cores\n",
    "rf_random = RandomizedSearchCV(estimator = rf, \n",
    "                               param_distributions = random_grid, \n",
    "                               n_iter = 100, \n",
    "                               cv = 3, \n",
    "                               verbose=2,\n",
    "                               n_jobs=-2)\n",
    "\n",
    "# Fit the random search model\n",
    "rf_random.fit(X_train, y_train)"
   ]
  },
  {
   "cell_type": "code",
   "execution_count": 9,
   "metadata": {},
   "outputs": [
    {
     "data": {
      "text/plain": [
       "{'n_estimators': 1250,\n",
       " 'min_samples_split': 10,\n",
       " 'min_samples_leaf': 4,\n",
       " 'max_features': 'sqrt',\n",
       " 'max_depth': 10}"
      ]
     },
     "execution_count": 9,
     "metadata": {},
     "output_type": "execute_result"
    }
   ],
   "source": [
    "rf_random.best_params_"
   ]
  },
  {
   "cell_type": "markdown",
   "metadata": {},
   "source": [
    "### Using best forest estimator to make new set of predictions"
   ]
  },
  {
   "cell_type": "code",
   "execution_count": 10,
   "metadata": {},
   "outputs": [
    {
     "name": "stdout",
     "output_type": "stream",
     "text": [
      "Mean Absolute Error: 0.12531\n"
     ]
    }
   ],
   "source": [
    "best_random = rf_random.best_estimator_\n",
    "\n",
    "# Use the forest's predict method on the test data\n",
    "best_predictions = best_random.predict(X_test)\n",
    "\n",
    "# Calculate the absolute errors\n",
    "best_errors = np.abs(best_predictions - y_test)\n",
    "\n",
    "# Print out the mean absolute error (mae)\n",
    "print('Mean Absolute Error:', round(np.mean(best_errors), 5))"
   ]
  },
  {
   "cell_type": "markdown",
   "metadata": {},
   "source": [
    "### Importance ranking of variables"
   ]
  },
  {
   "cell_type": "code",
   "execution_count": 11,
   "metadata": {},
   "outputs": [
    {
     "name": "stdout",
     "output_type": "stream",
     "text": [
      "nsa_elpetro_mass_logscale: 0.14036640738559564\n",
      "nsa_elpetro_ba: 0.2020227012797404\n",
      "nsa_sersic_n: 0.49215927206405613\n",
      "log_halo_mass: 0.0759571196110723\n",
      "group_flag: 0.008162175971334382\n",
      "log_dnode_norm: 0.04021960558868007\n",
      "log_dskel_norm: 0.04111271809952102\n"
     ]
    }
   ],
   "source": [
    "# Get numerical feature importances\n",
    "importances = list(best_random.feature_importances_)\n",
    "\n",
    "for feat, imp in zip(features.columns, importances):\n",
    "    print(feat + ': {}'.format(imp))"
   ]
  },
  {
   "cell_type": "code",
   "execution_count": 12,
   "metadata": {},
   "outputs": [
    {
     "data": {
      "image/png": "[encoded data removed]",
      "text/plain": [
       "<Figure size 504x360 with 1 Axes>"
      ]
     },
     "metadata": {},
     "output_type": "display_data"
    }
   ],
   "source": [
    "plt.style.use('ggplot')\n",
    "fig, ax = plot_correlations.importance_ranking(feature_labels, importances)\n",
    "ax.set_title('Relative Importances', fontsize=14)\n",
    "plt.savefig(outpath + 'importances.pdf', format='pdf', bbox_inches='tight')"
   ]
  },
  {
   "cell_type": "markdown",
   "metadata": {},
   "source": [
    "### Generating random forest only using top two parameters to evaluate additional information everything else brings"
   ]
  },
  {
   "cell_type": "code",
   "execution_count": 13,
   "metadata": {},
   "outputs": [
    {
     "data": {
      "text/plain": [
       "RandomForestRegressor(max_depth=10, max_features='sqrt', min_samples_leaf=4,\n",
       "                      min_samples_split=10, n_estimators=1250)"
      ]
     },
     "execution_count": 13,
     "metadata": {},
     "output_type": "execute_result"
    }
   ],
   "source": [
    "f_top = galaxies.df[['nsa_elpetro_ba', 'nsa_sersic_n']]\n",
    "rf_top = RandomForestRegressor()\n",
    "rf_top.set_params(**rf_random.best_params_)\n",
    "rf_top.fit(X_train[:, 1:3], y_train)"
   ]
  },
  {
   "cell_type": "code",
   "execution_count": 14,
   "metadata": {},
   "outputs": [
    {
     "name": "stdout",
     "output_type": "stream",
     "text": [
      "Mean Absolute Error: 0.1291\n"
     ]
    }
   ],
   "source": [
    "# Use the forest's predict method on the test data\n",
    "best_top_predictions = rf_top.predict(X_test[:, 1:3])\n",
    "\n",
    "# Calculate the absolute errors\n",
    "best_top_errors = np.abs(best_top_predictions - y_test)\n",
    "\n",
    "# Print out the mean absolute error (mae)\n",
    "print('Mean Absolute Error:', round(np.mean(best_top_errors), 5))"
   ]
  },
  {
   "cell_type": "markdown",
   "metadata": {},
   "source": [
    "### Additional parameters (stellar mass, local and large scale environment) does improve predictive power, however, minimal relative to inclination and sersic index.\n",
    "- Add histograms of $\\lambda_R$ distributions and correlation (pearsons)."
   ]
  }
 ],
 "metadata": {
  "kernelspec": {
   "display_name": "Python 3",
   "language": "python",
   "name": "python3"
  },
  "language_info": {
   "codemirror_mode": {
    "name": "ipython",
    "version": 3
   },
   "file_extension": ".py",
   "mimetype": "text/x-python",
   "name": "python",
   "nbconvert_exporter": "python",
   "pygments_lexer": "ipython3",
   "version": "3.7.4"
  }
 },
 "nbformat": 4,
 "nbformat_minor": 4
}

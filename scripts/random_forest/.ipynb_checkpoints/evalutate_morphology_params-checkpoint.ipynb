{
 "cells": [
  {
   "cell_type": "markdown",
   "metadata": {},
   "source": [
    "# evaluate_morphology_params\n",
    "- There are several ways that morphological information for a galaxy can be encoded for input into a random forest.\n",
    "- Here we take a look at which measure is most correlated with galaxy spin ($\\lambda_R$) using individual correlation coeffients and a quick random forest."
   ]
  },
  {
   "cell_type": "code",
   "execution_count": 1,
   "metadata": {},
   "outputs": [],
   "source": [
    "import pandas as pd\n",
    "import numpy as np\n",
    "from scipy import stats\n",
    "\n",
    "import matplotlib.pyplot as plt\n",
    "import seaborn as sns\n",
    "\n",
    "import catalog\n",
    "import encode_morphology\n",
    "import plot_correlations\n",
    "\n",
    "from sklearn.model_selection import train_test_split\n",
    "from sklearn.ensemble import RandomForestRegressor"
   ]
  },
  {
   "cell_type": "markdown",
   "metadata": {},
   "source": [
    "### Loading in galaxy information using catalog class object"
   ]
  },
  {
   "cell_type": "code",
   "execution_count": 2,
   "metadata": {},
   "outputs": [],
   "source": [
    "basepath = '../../catalogues/'\n",
    "outpath = '../../plots/random_forest/'\n",
    "\n",
    "# initiating catalog class objects.\n",
    "total = catalog.Catalog(basepath, version='mpl9', match_to_lim=True)\n",
    "# matching to cw definitions and selecting centrals only.\n",
    "total.match_to_cw(basepath, version='mpl9', sigma=3)"
   ]
  },
  {
   "cell_type": "markdown",
   "metadata": {},
   "source": [
    "### One-hot encoding galaxyZoo2 morphology classifications and adding to df"
   ]
  },
  {
   "cell_type": "code",
   "execution_count": 3,
   "metadata": {},
   "outputs": [
    {
     "name": "stderr",
     "output_type": "stream",
     "text": [
      "/opt/miniconda3/lib/python3.7/site-packages/seaborn/_decorators.py:43: FutureWarning: Pass the following variable as a keyword arg: x. From version 0.12, the only valid positional argument will be `data`, and passing other arguments without an explicit keyword will result in an error or misinterpretation.\n",
      "  FutureWarning\n"
     ]
    },
    {
     "data": {
      "image/png": "[encoded data removed]",
      "text/plain": [
       "<Figure size 432x288 with 1 Axes>"
      ]
     },
     "metadata": {
      "needs_background": "light"
     },
     "output_type": "display_data"
    },
    {
     "name": "stdout",
     "output_type": "stream",
     "text": [
      "etg             encoded class column added.\n",
      "s0sa            encoded class column added.\n",
      "sbsd            encoded class column added.\n",
      "unclassified    encoded class column added.\n"
     ]
    }
   ],
   "source": [
    "total.df = encode_morphology.one_hot(total.df, category_plot=True, split_ltgs=True)"
   ]
  },
  {
   "cell_type": "markdown",
   "metadata": {},
   "source": [
    "### Also adding T-type column"
   ]
  },
  {
   "cell_type": "code",
   "execution_count": 4,
   "metadata": {},
   "outputs": [],
   "source": [
    "total.df = encode_morphology.add_Ttype_col(total.df)"
   ]
  },
  {
   "cell_type": "markdown",
   "metadata": {},
   "source": [
    "### Slicing dataframe to only include columns relevant to morphology \n",
    "- $\\lambda_R$ used as labels here\n",
    "- $n_{sersic}$ used as parametric measure of morphology\n",
    "- One-hot encoded galaxyZoo morphs\n",
    "- Individual debiased vote fractions for GZ."
   ]
  },
  {
   "cell_type": "code",
   "execution_count": 5,
   "metadata": {},
   "outputs": [
    {
     "data": {
      "text/html": [
       "<div>\n",
       "<style scoped>\n",
       "    .dataframe tbody tr th:only-of-type {\n",
       "        vertical-align: middle;\n",
       "    }\n",
       "\n",
       "    .dataframe tbody tr th {\n",
       "        vertical-align: top;\n",
       "    }\n",
       "\n",
       "    .dataframe thead th {\n",
       "        text-align: right;\n",
       "    }\n",
       "</style>\n",
       "<table border=\"1\" class=\"dataframe\">\n",
       "  <thead>\n",
       "    <tr style=\"text-align: right;\">\n",
       "      <th></th>\n",
       "      <th>nsa_sersic_n</th>\n",
       "      <th>etg</th>\n",
       "      <th>s0sa</th>\n",
       "      <th>sbsd</th>\n",
       "      <th>unclassified</th>\n",
       "      <th>Ttype</th>\n",
       "      <th>t01_smooth_or_features_a01_smooth_debiased</th>\n",
       "    </tr>\n",
       "  </thead>\n",
       "  <tbody>\n",
       "    <tr>\n",
       "      <th>0</th>\n",
       "      <td>4.787008</td>\n",
       "      <td>0</td>\n",
       "      <td>0</td>\n",
       "      <td>0</td>\n",
       "      <td>1</td>\n",
       "      <td>0.442053</td>\n",
       "      <td>0.228571</td>\n",
       "    </tr>\n",
       "    <tr>\n",
       "      <th>1</th>\n",
       "      <td>1.614743</td>\n",
       "      <td>0</td>\n",
       "      <td>0</td>\n",
       "      <td>1</td>\n",
       "      <td>0</td>\n",
       "      <td>3.205008</td>\n",
       "      <td>0.000000</td>\n",
       "    </tr>\n",
       "    <tr>\n",
       "      <th>2</th>\n",
       "      <td>6.000000</td>\n",
       "      <td>1</td>\n",
       "      <td>0</td>\n",
       "      <td>0</td>\n",
       "      <td>0</td>\n",
       "      <td>2.360000</td>\n",
       "      <td>0.783146</td>\n",
       "    </tr>\n",
       "    <tr>\n",
       "      <th>3</th>\n",
       "      <td>6.000000</td>\n",
       "      <td>0</td>\n",
       "      <td>1</td>\n",
       "      <td>0</td>\n",
       "      <td>0</td>\n",
       "      <td>-1.730667</td>\n",
       "      <td>0.160844</td>\n",
       "    </tr>\n",
       "    <tr>\n",
       "      <th>4</th>\n",
       "      <td>0.922016</td>\n",
       "      <td>0</td>\n",
       "      <td>0</td>\n",
       "      <td>0</td>\n",
       "      <td>1</td>\n",
       "      <td>8.256406</td>\n",
       "      <td>0.619992</td>\n",
       "    </tr>\n",
       "  </tbody>\n",
       "</table>\n",
       "</div>"
      ],
      "text/plain": [
       "   nsa_sersic_n  etg  s0sa  sbsd  unclassified     Ttype  \\\n",
       "0      4.787008    0     0     0             1  0.442053   \n",
       "1      1.614743    0     0     1             0  3.205008   \n",
       "2      6.000000    1     0     0             0  2.360000   \n",
       "3      6.000000    0     1     0             0 -1.730667   \n",
       "4      0.922016    0     0     0             1  8.256406   \n",
       "\n",
       "   t01_smooth_or_features_a01_smooth_debiased  \n",
       "0                                    0.228571  \n",
       "1                                    0.000000  \n",
       "2                                    0.783146  \n",
       "3                                    0.160844  \n",
       "4                                    0.619992  "
      ]
     },
     "execution_count": 5,
     "metadata": {},
     "output_type": "execute_result"
    }
   ],
   "source": [
    "features = total.df[['nsa_sersic_n', \n",
    "                     'etg',\n",
    "                     's0sa',\n",
    "                     'sbsd',\n",
    "                     'unclassified',\n",
    "                     'Ttype',\n",
    "                     't01_smooth_or_features_a01_smooth_debiased']]\n",
    "\n",
    "feature_plotting_labels = np.array(['$n_{sersic}$',\n",
    "                                    'ETG flag',\n",
    "                                    'S0-Sa flag',\n",
    "                                    'Sb-Sd flag',\n",
    "                                    'Unclassified flag',\n",
    "                                    'T-type',\n",
    "                                    '$P_{smooth}$'])\n",
    "\n",
    "labels = total.df['Lambda_Re']\n",
    "\n",
    "features.head(5)"
   ]
  },
  {
   "cell_type": "code",
   "execution_count": null,
   "metadata": {},
   "outputs": [],
   "source": [
    "df = total.df[['nsa_sersic_n', \n",
    "               't01_smooth_or_features_a01_smooth_debiased',\n",
    "               'Lambda_Re', \n",
    "               'Ttype']]\n",
    "\n",
    "# defining column names\n",
    "cols = ['Lambda_Re', 'nsa_sersic_n', 't01_smooth_or_features_a01_smooth_debiased', 'Ttype']\n",
    "names = ['$\\lambda_{Re}$', '$n_{sersic}$', '$P_{smooth}$', 'T-type']\n",
    "colors = ['k', 'dodgerblue', 'orange', 'salmon']\n",
    "limits = [[0, 1], [0, 6], [0, 1], [-5, 9]]\n",
    "\n",
    "fig, ax = plot_correlations.correlation_corner(df, cols, colors, names=names, coef='spearman', limits=limits)\n",
    "plt.savefig(outpath + 'morphology_correlation_corner.pdf', format='pdf', bbox_inches='tight')"
   ]
  },
  {
   "cell_type": "markdown",
   "metadata": {},
   "source": [
    "### Creating grid plot to evaluate correlations between continuous morphology definitions."
   ]
  },
  {
   "cell_type": "markdown",
   "metadata": {},
   "source": [
    "### For continuous variables, $\\lambda_R$ is most tightly correlated with $n_{sersic}$ \n",
    "- Most relationships are reasonably linear since there is no significant difference between spearman and pearson correlation coefficients\n",
    "- GZ2 $P_{smooth}$ and empirical T-type give similar amounts of info\n",
    "- Ranking importances in random forest to check this all"
   ]
  },
  {
   "cell_type": "code",
   "execution_count": 9,
   "metadata": {},
   "outputs": [
    {
     "data": {
      "text/plain": [
       "((4893,), (1224,))"
      ]
     },
     "execution_count": 9,
     "metadata": {},
     "output_type": "execute_result"
    }
   ],
   "source": [
    "X_train, X_test, y_train, y_test = train_test_split(np.array(features), \n",
    "                                                    labels, \n",
    "                                                    test_size = 0.2, \n",
    "                                                    shuffle=True)\n",
    "y_train.shape, y_test.shape"
   ]
  },
  {
   "cell_type": "code",
   "execution_count": 10,
   "metadata": {},
   "outputs": [
    {
     "data": {
      "text/plain": [
       "RandomForestRegressor(n_estimators=1000)"
      ]
     },
     "execution_count": 10,
     "metadata": {},
     "output_type": "execute_result"
    }
   ],
   "source": [
    "# selecting there to be 1000 trees in the forest.\n",
    "rf = RandomForestRegressor(n_estimators = 1000)\n",
    "\n",
    "# Train the model on training data\n",
    "rf.fit(X_train, y_train)"
   ]
  },
  {
   "cell_type": "code",
   "execution_count": 11,
   "metadata": {},
   "outputs": [
    {
     "name": "stdout",
     "output_type": "stream",
     "text": [
      "Mean Absolute Error: 0.13\n"
     ]
    }
   ],
   "source": [
    "# Use the forest's predict method on the test data\n",
    "predictions = rf.predict(X_test)\n",
    "\n",
    "# Calculate the absolute errors\n",
    "errors = np.abs(predictions - y_test)\n",
    "\n",
    "# Print out the mean absolute error (mae)\n",
    "print('Mean Absolute Error:', round(np.mean(errors), 2))"
   ]
  },
  {
   "cell_type": "code",
   "execution_count": 12,
   "metadata": {},
   "outputs": [
    {
     "name": "stdout",
     "output_type": "stream",
     "text": [
      "nsa_sersic_n: 0.5904118013164777\n",
      "etg: 0.0009787538555769046\n",
      "s0sa: 0.002269922604729163\n",
      "sbsd: 0.008628731595605451\n",
      "unclassified: 0.0061398063896986824\n",
      "Ttype: 0.184463595623623\n",
      "t01_smooth_or_features_a01_smooth_debiased: 0.2071073886142892\n"
     ]
    }
   ],
   "source": [
    "# Get numerical feature importances\n",
    "importances = list(rf.feature_importances_)\n",
    "\n",
    "for feat, imp in zip(features.columns, importances):\n",
    "    print(feat + ': {}'.format(imp))\n",
    "    \n",
    "x_values = np.arange(len(importances))"
   ]
  },
  {
   "cell_type": "markdown",
   "metadata": {},
   "source": [
    "### Creating a sorted importance bar plot"
   ]
  },
  {
   "cell_type": "code",
   "execution_count": 14,
   "metadata": {},
   "outputs": [
    {
     "data": {
      "image/png": "[encoded data removed]",
      "text/plain": [
       "<Figure size 504x360 with 1 Axes>"
      ]
     },
     "metadata": {},
     "output_type": "display_data"
    }
   ],
   "source": [
    "plt.style.use('ggplot')\n",
    "fig, ax = plot_correlations.importance_ranking(feature_plotting_labels, importances)\n",
    "ax.set_title('Relative Morphological Importances', fontsize=14)\n",
    "plt.savefig(outpath + 'morphology_importances.pdf', format='pdf', bbox_inches='tight')"
   ]
  },
  {
   "cell_type": "markdown",
   "metadata": {},
   "source": [
    "### Summary\n",
    "- One-hot encoding morphological classes rather than using one of the continuous vote fractions reduces information passed to the rf\n",
    "- Sersic index ($n_{sersic}$) appears most tightly correlated with galaxy spin ($\\lambda_R$) and hence should be considered as the _morphological_ input for the rf\n",
    "- This is followed by either vote fractions for smooth / empirical T-type found from GZ2."
   ]
  }
 ],
 "metadata": {
  "kernelspec": {
   "display_name": "Python 3",
   "language": "python",
   "name": "python3"
  },
  "language_info": {
   "codemirror_mode": {
    "name": "ipython",
    "version": 3
   },
   "file_extension": ".py",
   "mimetype": "text/x-python",
   "name": "python",
   "nbconvert_exporter": "python",
   "pygments_lexer": "ipython3",
   "version": "3.7.4"
  }
 },
 "nbformat": 4,
 "nbformat_minor": 4
}
